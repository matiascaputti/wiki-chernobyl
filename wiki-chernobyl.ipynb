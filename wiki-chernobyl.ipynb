{
 "cells": [
  {
   "cell_type": "markdown",
   "metadata": {},
   "source": [
    "Last May, HBO released \"Chernobyl\" a historical miniseries (just 5 episodes) based on the events of the [Chernobyl nuclear disaster](https://en.wikipedia.org/wiki/Chernobyl_nuclear_disaster).\n",
    "\n",
    "The show received widespread attention and was source of controversy. Suddenly, my twitter timeline was swarmed with tweets about Chernobyl (the tv show), about the nuclear incident, about the city/country/USSR, etc.\n",
    "\n",
    "I wanted to see how realistic was that impact, or was just the result of my own \"echo chamber\". A quick Google Trends search found an obvious increase in Google searches: \n",
    "\n",
    "![image](https://user-images.githubusercontent.com/872296/60043644-edc6cb80-9696-11e9-9b33-4e362e3da5bd.png)\n",
    "\n",
    "But, how meaningful was it? Did it spark a real worldwide controversy, as sources were claiming? How much impact did it have?\n",
    "\n",
    "So then I thought, why not use Wikipedia to see how much impact the series had had? My reasoning was that, if it really caused a lot of controversy, people would rush to check facts and improve the articles to reflect responses to those controversies.\n",
    "\n",
    "The page that I selected is **[Chernobyl nuclear disaster](https://en.wikipedia.org/wiki/Chernobyl_nuclear_disaster)**, the one describing the real event, the reactor explosion and aftermath."
   ]
  },
  {
   "cell_type": "code",
   "execution_count": 1,
   "metadata": {},
   "outputs": [],
   "source": [
    "import itertools\n",
    "import requests\n",
    "\n",
    "import pandas as pd\n",
    "import numpy as np\n",
    "\n",
    "import matplotlib.pyplot as plt\n",
    "import seaborn as sns\n",
    "%matplotlib inline"
   ]
  },
  {
   "cell_type": "code",
   "execution_count": 2,
   "metadata": {},
   "outputs": [
    {
     "data": {
      "image/png": "[encoded data removed]",
      "text/plain": [
       "<Figure size 576x72 with 1 Axes>"
      ]
     },
     "metadata": {
      "needs_background": "light"
     },
     "output_type": "display_data"
    }
   ],
   "source": [
    "flatui = [\"#2e86de\", \"#ff4757\", \"#feca57\", \"#2ed573\", \"#ff7f50\", \"#00cec9\", \"#fd79a8\", \"#a4b0be\"]\n",
    "flatui_palette = sns.color_palette(flatui)\n",
    "sns.palplot(flatui_palette)\n",
    "sns.set_palette(flatui_palette)\n",
    "\n",
    "sns.set_style(\"darkgrid\", {\n",
    "    'axes.edgecolor': '#2b2b2b',\n",
    "    'axes.facecolor': '#2b2b2b',\n",
    "    'axes.labelcolor': '#919191',\n",
    "    'figure.facecolor': '#2b2b2b',\n",
    "    'grid.color': '#545454',\n",
    "    'patch.edgecolor': '#2b2b2b',\n",
    "    'text.color': '#bababa',\n",
    "    'xtick.color': '#bababa',\n",
    "    'ytick.color': '#bababa'\n",
    "})"
   ]
  },
  {
   "cell_type": "markdown",
   "metadata": {},
   "source": [
    "### Pulling the data from Wikipedia"
   ]
  },
  {
   "cell_type": "markdown",
   "metadata": {},
   "source": [
    "Wikipedia's API is provided by the \"wiki engine\" powering Wikipedia itself, [MediaWiki](https://en.wikipedia.org/wiki/MediaWiki). The API works on top of HTTP but it's NOT RESTful; it's actually not so pretty. It took some time to understand. The \"endpoint\" we need to use to get revisions of a page is [`API:Revisions`](https://www.mediawiki.org/wiki/API:Revisions). Here's a quick example:"
   ]
  },
  {
   "cell_type": "code",
   "execution_count": 3,
   "metadata": {},
   "outputs": [],
   "source": [
    "page_title = 'Chernobyl_disaster'"
   ]
  },
  {
   "cell_type": "code",
   "execution_count": 4,
   "metadata": {},
   "outputs": [],
   "source": [
    "url = \"https://en.wikipedia.org/w/api.php\"\n",
    "\n",
    "params = {\n",
    "    \"action\": \"query\",\n",
    "    \"prop\": \"revisions\",\n",
    "    \"titles\": page_title,\n",
    "    \"rvprop\": 'timestamp|flags|user|comment|size',\n",
    "    \"rvslots\": \"main\",\n",
    "    \"formatversion\": \"2\",\n",
    "    'rvlimit': 500,   \n",
    "    \"format\": 'json',\n",
    "}"
   ]
  },
  {
   "cell_type": "code",
   "execution_count": 5,
   "metadata": {},
   "outputs": [],
   "source": [
    "resp = requests.get(url, params=params)"
   ]
  },
  {
   "cell_type": "code",
   "execution_count": 6,
   "metadata": {},
   "outputs": [],
   "source": [
    "doc = resp.json()"
   ]
  },
  {
   "cell_type": "code",
   "execution_count": 7,
   "metadata": {},
   "outputs": [
    {
     "data": {
      "text/plain": [
       "dict_keys(['continue', 'query'])"
      ]
     },
     "execution_count": 7,
     "metadata": {},
     "output_type": "execute_result"
    }
   ],
   "source": [
    "doc.keys()"
   ]
  },
  {
   "cell_type": "markdown",
   "metadata": {},
   "source": [
    "The revisions of the page are nested under the `revisions` key for each `page` returned by the `query`. This is the last Revision of the page:"
   ]
  },
  {
   "cell_type": "code",
   "execution_count": 8,
   "metadata": {},
   "outputs": [
    {
     "data": {
      "text/plain": [
       "{'minor': False,\n",
       " 'user': 'Fsikkema',\n",
       " 'timestamp': '2019-10-06T11:52:11Z',\n",
       " 'size': 258254,\n",
       " 'comment': 'corrected mortality rate to reflect UNSCEAR report'}"
      ]
     },
     "execution_count": 8,
     "metadata": {},
     "output_type": "execute_result"
    }
   ],
   "source": [
    "doc['query']['pages'][0]['revisions'][0]"
   ]
  },
  {
   "cell_type": "markdown",
   "metadata": {},
   "source": [
    "Which coincides with the last revision shown in the page:\n",
    "\n",
    "![image](https://user-images.githubusercontent.com/872296/60045312-f7eac900-969a-11e9-8bd5-4f9f4da0255c.png)\n",
    "\n",
    "*Note: you can check all the revisions with [this link](https://en.wikipedia.org/w/index.php?title=Chernobyl_disaster&action=history) (note that it might be outdated).*\n"
   ]
  },
  {
   "cell_type": "markdown",
   "metadata": {},
   "source": [
    "#### Building a function\n",
    "\n",
    "As we always recommend our students, the best thing to do is build functions that encapsulate the functionality that we need. In this case I'll build a function that acts as a \"generator\", which will pull all the revisions from Wikipedia. \n",
    "\n",
    "**IMPORTANT:** Keep in mind that there are can be hundred of thousands of revisions for a single page. Each request returns 500 records, so that'd need multiple hundred of requests to the Wikipedia API. That's why I've added a parameter `from_ts` to get revisions only starting from that given date. In my case, I only care about revisions from 2019, so my `from_ts` is equals to `2019-01-01T00:00:00`."
   ]
  },
  {
   "cell_type": "code",
   "execution_count": 9,
   "metadata": {},
   "outputs": [],
   "source": [
    "def get_all_revisions(page_title, props='timestamp|flags|user|comment|size', from_ts=None):\n",
    "    url = \"https://en.wikipedia.org/w/api.php\"\n",
    "\n",
    "    params = {\n",
    "        \"action\": \"query\",\n",
    "        \"prop\": \"revisions\",\n",
    "        \"titles\": page_title,\n",
    "        \"rvprop\": props,\n",
    "        \"rvslots\": \"main\",\n",
    "        \"formatversion\": \"2\",\n",
    "        'rvlimit': 500,   \n",
    "        \"format\": 'json',\n",
    "    }\n",
    "    if from_ts:\n",
    "        params = {**params, 'rvstart': from_ts, 'rvdir': 'newer'}\n",
    "    new_revisions = False\n",
    "    while True:\n",
    "            resp = requests.get(url, params=params)\n",
    "            print(\"Request done: \", resp.status_code)\n",
    "            resp.raise_for_status()\n",
    "            doc = resp.json()\n",
    "            page = doc['query']['pages'][0]\n",
    "            if not page.get('revisions'):\n",
    "                break\n",
    "            yield from page['revisions']\n",
    "            if doc.get('batchcomplete'):\n",
    "                break\n",
    "\n",
    "            if 'continue' in doc:\n",
    "                params['rvcontinue'] = doc['continue']['rvcontinue']\n",
    "            "
   ]
  },
  {
   "cell_type": "code",
   "execution_count": 10,
   "metadata": {},
   "outputs": [],
   "source": [
    "revisions = get_all_revisions('Chernobyl_disaster', from_ts='2019-01-01T00:00:00')"
   ]
  },
  {
   "cell_type": "markdown",
   "metadata": {},
   "source": [
    "We can now use this function generator to create a DataFrame, which will read the columns automatically:"
   ]
  },
  {
   "cell_type": "code",
   "execution_count": 11,
   "metadata": {},
   "outputs": [
    {
     "name": "stdout",
     "output_type": "stream",
     "text": [
      "Request done:  200\n",
      "Request done:  200\n"
     ]
    }
   ],
   "source": [
    "df = pd.DataFrame.from_records(revisions)"
   ]
  },
  {
   "cell_type": "code",
   "execution_count": 12,
   "metadata": {},
   "outputs": [
    {
     "data": {
      "text/plain": [
       "(668, 5)"
      ]
     },
     "execution_count": 12,
     "metadata": {},
     "output_type": "execute_result"
    }
   ],
   "source": [
    "df.shape"
   ]
  },
  {
   "cell_type": "code",
   "execution_count": 13,
   "metadata": {},
   "outputs": [],
   "source": [
    "df['timestamp'] = pd.to_datetime(df['timestamp'])"
   ]
  },
  {
   "cell_type": "code",
   "execution_count": 14,
   "metadata": {},
   "outputs": [
    {
     "name": "stdout",
     "output_type": "stream",
     "text": [
      "<class 'pandas.core.frame.DataFrame'>\n",
      "RangeIndex: 668 entries, 0 to 667\n",
      "Data columns (total 5 columns):\n",
      "comment      668 non-null object\n",
      "minor        668 non-null bool\n",
      "size         668 non-null int64\n",
      "timestamp    668 non-null datetime64[ns]\n",
      "user         668 non-null object\n",
      "dtypes: bool(1), datetime64[ns](1), int64(1), object(2)\n",
      "memory usage: 21.6+ KB\n"
     ]
    }
   ],
   "source": [
    "df.info()"
   ]
  },
  {
   "cell_type": "code",
   "execution_count": 15,
   "metadata": {},
   "outputs": [
    {
     "data": {
      "text/html": [
       "<div>\n",
       "<style scoped>\n",
       "    .dataframe tbody tr th:only-of-type {\n",
       "        vertical-align: middle;\n",
       "    }\n",
       "\n",
       "    .dataframe tbody tr th {\n",
       "        vertical-align: top;\n",
       "    }\n",
       "\n",
       "    .dataframe thead th {\n",
       "        text-align: right;\n",
       "    }\n",
       "</style>\n",
       "<table border=\"1\" class=\"dataframe\">\n",
       "  <thead>\n",
       "    <tr style=\"text-align: right;\">\n",
       "      <th></th>\n",
       "      <th>comment</th>\n",
       "      <th>minor</th>\n",
       "      <th>size</th>\n",
       "      <th>timestamp</th>\n",
       "      <th>user</th>\n",
       "    </tr>\n",
       "  </thead>\n",
       "  <tbody>\n",
       "    <tr>\n",
       "      <th>0</th>\n",
       "      <td>fixed links per [[WP:EGG]] and clarity</td>\n",
       "      <td>False</td>\n",
       "      <td>234417</td>\n",
       "      <td>2019-01-04 09:31:33</td>\n",
       "      <td>Ita140188</td>\n",
       "    </tr>\n",
       "    <tr>\n",
       "      <th>1</th>\n",
       "      <td>{{plainlist}}</td>\n",
       "      <td>False</td>\n",
       "      <td>234429</td>\n",
       "      <td>2019-01-08 16:58:52</td>\n",
       "      <td>Hairy Dude</td>\n",
       "    </tr>\n",
       "    <tr>\n",
       "      <th>2</th>\n",
       "      <td>[[Pediatrics (journal)]]</td>\n",
       "      <td>False</td>\n",
       "      <td>234454</td>\n",
       "      <td>2019-01-10 00:03:38</td>\n",
       "      <td>X1\\</td>\n",
       "    </tr>\n",
       "    <tr>\n",
       "      <th>3</th>\n",
       "      <td></td>\n",
       "      <td>False</td>\n",
       "      <td>234456</td>\n",
       "      <td>2019-01-11 00:51:52</td>\n",
       "      <td>JackOfDiamondz</td>\n",
       "    </tr>\n",
       "    <tr>\n",
       "      <th>4</th>\n",
       "      <td>/* The Exclusion Zone */ Copyedit.</td>\n",
       "      <td>False</td>\n",
       "      <td>234470</td>\n",
       "      <td>2019-01-13 18:19:52</td>\n",
       "      <td>Rich Farmbrough</td>\n",
       "    </tr>\n",
       "  </tbody>\n",
       "</table>\n",
       "</div>"
      ],
      "text/plain": [
       "                                  comment  minor    size           timestamp  \\\n",
       "0  fixed links per [[WP:EGG]] and clarity  False  234417 2019-01-04 09:31:33   \n",
       "1                           {{plainlist}}  False  234429 2019-01-08 16:58:52   \n",
       "2                [[Pediatrics (journal)]]  False  234454 2019-01-10 00:03:38   \n",
       "3                                          False  234456 2019-01-11 00:51:52   \n",
       "4      /* The Exclusion Zone */ Copyedit.  False  234470 2019-01-13 18:19:52   \n",
       "\n",
       "              user  \n",
       "0        Ita140188  \n",
       "1       Hairy Dude  \n",
       "2              X1\\  \n",
       "3   JackOfDiamondz  \n",
       "4  Rich Farmbrough  "
      ]
     },
     "execution_count": 15,
     "metadata": {},
     "output_type": "execute_result"
    }
   ],
   "source": [
    "df.head()"
   ]
  },
  {
   "cell_type": "code",
   "execution_count": 16,
   "metadata": {},
   "outputs": [],
   "source": [
    "df.sort_values(by='timestamp', ascending=True, inplace=True)"
   ]
  },
  {
   "cell_type": "markdown",
   "metadata": {},
   "source": [
    "When was the last revision?"
   ]
  },
  {
   "cell_type": "code",
   "execution_count": 17,
   "metadata": {},
   "outputs": [
    {
     "data": {
      "text/plain": [
       "Timestamp('2019-10-06 11:52:11')"
      ]
     },
     "execution_count": 17,
     "metadata": {},
     "output_type": "execute_result"
    }
   ],
   "source": [
    "df['timestamp'].max()"
   ]
  },
  {
   "cell_type": "markdown",
   "metadata": {},
   "source": [
    "I need to group now all revisions by day. The simplest way to do it is by using the `floor` function of pandas:"
   ]
  },
  {
   "cell_type": "code",
   "execution_count": 18,
   "metadata": {},
   "outputs": [],
   "source": [
    "df['day'] = df['timestamp'].dt.floor('d')"
   ]
  },
  {
   "cell_type": "code",
   "execution_count": 19,
   "metadata": {},
   "outputs": [
    {
     "data": {
      "text/html": [
       "<div>\n",
       "<style scoped>\n",
       "    .dataframe tbody tr th:only-of-type {\n",
       "        vertical-align: middle;\n",
       "    }\n",
       "\n",
       "    .dataframe tbody tr th {\n",
       "        vertical-align: top;\n",
       "    }\n",
       "\n",
       "    .dataframe thead th {\n",
       "        text-align: right;\n",
       "    }\n",
       "</style>\n",
       "<table border=\"1\" class=\"dataframe\">\n",
       "  <thead>\n",
       "    <tr style=\"text-align: right;\">\n",
       "      <th></th>\n",
       "      <th>comment</th>\n",
       "      <th>minor</th>\n",
       "      <th>size</th>\n",
       "      <th>timestamp</th>\n",
       "      <th>user</th>\n",
       "      <th>day</th>\n",
       "    </tr>\n",
       "  </thead>\n",
       "  <tbody>\n",
       "    <tr>\n",
       "      <th>0</th>\n",
       "      <td>fixed links per [[WP:EGG]] and clarity</td>\n",
       "      <td>False</td>\n",
       "      <td>234417</td>\n",
       "      <td>2019-01-04 09:31:33</td>\n",
       "      <td>Ita140188</td>\n",
       "      <td>2019-01-04</td>\n",
       "    </tr>\n",
       "    <tr>\n",
       "      <th>1</th>\n",
       "      <td>{{plainlist}}</td>\n",
       "      <td>False</td>\n",
       "      <td>234429</td>\n",
       "      <td>2019-01-08 16:58:52</td>\n",
       "      <td>Hairy Dude</td>\n",
       "      <td>2019-01-08</td>\n",
       "    </tr>\n",
       "    <tr>\n",
       "      <th>2</th>\n",
       "      <td>[[Pediatrics (journal)]]</td>\n",
       "      <td>False</td>\n",
       "      <td>234454</td>\n",
       "      <td>2019-01-10 00:03:38</td>\n",
       "      <td>X1\\</td>\n",
       "      <td>2019-01-10</td>\n",
       "    </tr>\n",
       "    <tr>\n",
       "      <th>3</th>\n",
       "      <td></td>\n",
       "      <td>False</td>\n",
       "      <td>234456</td>\n",
       "      <td>2019-01-11 00:51:52</td>\n",
       "      <td>JackOfDiamondz</td>\n",
       "      <td>2019-01-11</td>\n",
       "    </tr>\n",
       "    <tr>\n",
       "      <th>4</th>\n",
       "      <td>/* The Exclusion Zone */ Copyedit.</td>\n",
       "      <td>False</td>\n",
       "      <td>234470</td>\n",
       "      <td>2019-01-13 18:19:52</td>\n",
       "      <td>Rich Farmbrough</td>\n",
       "      <td>2019-01-13</td>\n",
       "    </tr>\n",
       "  </tbody>\n",
       "</table>\n",
       "</div>"
      ],
      "text/plain": [
       "                                  comment  minor    size           timestamp  \\\n",
       "0  fixed links per [[WP:EGG]] and clarity  False  234417 2019-01-04 09:31:33   \n",
       "1                           {{plainlist}}  False  234429 2019-01-08 16:58:52   \n",
       "2                [[Pediatrics (journal)]]  False  234454 2019-01-10 00:03:38   \n",
       "3                                          False  234456 2019-01-11 00:51:52   \n",
       "4      /* The Exclusion Zone */ Copyedit.  False  234470 2019-01-13 18:19:52   \n",
       "\n",
       "              user        day  \n",
       "0        Ita140188 2019-01-04  \n",
       "1       Hairy Dude 2019-01-08  \n",
       "2              X1\\ 2019-01-10  \n",
       "3   JackOfDiamondz 2019-01-11  \n",
       "4  Rich Farmbrough 2019-01-13  "
      ]
     },
     "execution_count": 19,
     "metadata": {},
     "output_type": "execute_result"
    }
   ],
   "source": [
    "df.head()"
   ]
  },
  {
   "cell_type": "markdown",
   "metadata": {},
   "source": [
    "And now we can see how many revisions we have **per day**:"
   ]
  },
  {
   "cell_type": "code",
   "execution_count": 20,
   "metadata": {},
   "outputs": [],
   "source": [
    "results = df['day'].value_counts(sort=False)"
   ]
  },
  {
   "cell_type": "code",
   "execution_count": 21,
   "metadata": {},
   "outputs": [
    {
     "data": {
      "text/plain": [
       "2019-08-09    1\n",
       "2019-06-08    9\n",
       "2019-05-22    7\n",
       "2019-03-21    1\n",
       "2019-09-06    1\n",
       "Name: day, dtype: int64"
      ]
     },
     "execution_count": 21,
     "metadata": {},
     "output_type": "execute_result"
    }
   ],
   "source": [
    "results.head()"
   ]
  },
  {
   "cell_type": "markdown",
   "metadata": {},
   "source": [
    "I'll sort this by day, in ascending order:"
   ]
  },
  {
   "cell_type": "code",
   "execution_count": 22,
   "metadata": {},
   "outputs": [],
   "source": [
    "results.sort_index(ascending=True, inplace=True)"
   ]
  },
  {
   "cell_type": "code",
   "execution_count": 23,
   "metadata": {},
   "outputs": [
    {
     "data": {
      "text/plain": [
       "2019-01-04    1\n",
       "2019-01-08    1\n",
       "2019-01-10    1\n",
       "2019-01-11    1\n",
       "2019-01-13    1\n",
       "Name: day, dtype: int64"
      ]
     },
     "execution_count": 23,
     "metadata": {},
     "output_type": "execute_result"
    }
   ],
   "source": [
    "results.head()"
   ]
  },
  {
   "cell_type": "markdown",
   "metadata": {},
   "source": [
    "And now I'll group it by week:"
   ]
  },
  {
   "cell_type": "code",
   "execution_count": 24,
   "metadata": {},
   "outputs": [],
   "source": [
    "weekly_stats = results.resample('W-Mon', label='left', closed='left').sum()"
   ]
  },
  {
   "cell_type": "code",
   "execution_count": 25,
   "metadata": {},
   "outputs": [
    {
     "data": {
      "text/plain": [
       "2018-12-31    1\n",
       "2019-01-07    4\n",
       "2019-01-14    3\n",
       "2019-01-21    4\n",
       "2019-01-28    2\n",
       "Freq: W-MON, Name: day, dtype: int64"
      ]
     },
     "execution_count": 25,
     "metadata": {},
     "output_type": "execute_result"
    }
   ],
   "source": [
    "weekly_stats.head()"
   ]
  },
  {
   "cell_type": "code",
   "execution_count": 26,
   "metadata": {},
   "outputs": [],
   "source": [
    "MINISERIES_RELEASE_DATE = pd.Timestamp('2019-05-06')"
   ]
  },
  {
   "cell_type": "code",
   "execution_count": 27,
   "metadata": {},
   "outputs": [],
   "source": [
    "MINISERIES_LAST_EPISODE_DATE = pd.Timestamp('2019-06-03')"
   ]
  },
  {
   "cell_type": "markdown",
   "metadata": {},
   "source": [
    "Time to plot!"
   ]
  },
  {
   "cell_type": "code",
   "execution_count": 28,
   "metadata": {},
   "outputs": [
    {
     "data": {
      "image/png": "[encoded data removed]",
      "text/plain": [
       "<Figure size 1008x504 with 1 Axes>"
      ]
     },
     "metadata": {},
     "output_type": "display_data"
    }
   ],
   "source": [
    "fig, ax = plt.subplots(figsize=(14, 7))\n",
    "weekly_stats.plot(kind='bar', color=flatui_palette[0], ax=ax, label='Number of edits per week')\n",
    "\n",
    "ax.set_xticklabels([x.strftime('%Y-%m-%d') for x in weekly_stats.index])\n",
    "xpos = list(weekly_stats.index).index(MINISERIES_RELEASE_DATE)\n",
    "ypos = weekly_stats[MINISERIES_RELEASE_DATE]\n",
    "\n",
    "ax.annotate(\n",
    "    '1st Episode', xy=(xpos, ypos), xytext=(xpos-3, ypos + 10),\n",
    "    arrowprops=dict(facecolor=flatui_palette[1], shrink=0.05),\n",
    "    #horizontalalignment='right', verticalalignment='top',\n",
    ")\n",
    "\n",
    "xpos = list(weekly_stats.index).index(MINISERIES_LAST_EPISODE_DATE)\n",
    "ypos = weekly_stats[MINISERIES_LAST_EPISODE_DATE]\n",
    "ax.annotate(\n",
    "    'Last Episode', xy=(xpos, ypos), xytext=(xpos + 1, ypos + 6),\n",
    "    arrowprops=dict(facecolor=flatui_palette[1], shrink=0.05),\n",
    "    #horizontalalignment='right', verticalalignment='top',\n",
    ")\n",
    "\n",
    "fig.autofmt_xdate()\n",
    "ax.legend(loc='upper left');"
   ]
  },
  {
   "cell_type": "markdown",
   "metadata": {},
   "source": [
    "Clearly, the series had a deep impact in the number of editions of the wikipedia page."
   ]
  },
  {
   "cell_type": "markdown",
   "metadata": {},
   "source": [
    "### Analyzing Pageviews\n",
    "\n",
    "The impact of the TV Show on the Wikipedia page was clearly significant, and it reflects some of the controversies introduced by the miniseries. Something else interesting to see are the visualizations of the pages"
   ]
  },
  {
   "cell_type": "code",
   "execution_count": 29,
   "metadata": {},
   "outputs": [],
   "source": [
    "import urllib.parse"
   ]
  },
  {
   "cell_type": "code",
   "execution_count": 30,
   "metadata": {},
   "outputs": [],
   "source": [
    "BASE_METRICS_URL = \"https://wikimedia.org/api/rest_v1/metrics/\""
   ]
  },
  {
   "cell_type": "code",
   "execution_count": 31,
   "metadata": {},
   "outputs": [],
   "source": [
    "agents = urllib.parse.urljoin(\n",
    "    BASE_METRICS_URL,\n",
    "    'pageviews/per-article/en.wikipedia/all-access/all-agents/', True)"
   ]
  },
  {
   "cell_type": "code",
   "execution_count": 32,
   "metadata": {},
   "outputs": [],
   "source": [
    "PAGEVIEWS_START = pd.Timestamp('2019-01-01')\n",
    "PAGEVIEWS_END = pd.Timestamp.now().replace(hour=0, minute=0, second=0, microsecond=0, nanosecond=0) - pd.Timedelta('1d')"
   ]
  },
  {
   "cell_type": "code",
   "execution_count": 33,
   "metadata": {},
   "outputs": [],
   "source": [
    "url = urllib.parse.urljoin(\n",
    "    agents,\n",
    "    '{article}/daily/{start}/{end}'.format(\n",
    "        article=urllib.parse.quote(page_title),\n",
    "        start=PAGEVIEWS_START.strftime('%Y%m%d00'),\n",
    "        end=PAGEVIEWS_END.strftime('%Y%m%d00')\n",
    "    ))"
   ]
  },
  {
   "cell_type": "code",
   "execution_count": 34,
   "metadata": {},
   "outputs": [],
   "source": [
    "resp = requests.get(url)"
   ]
  },
  {
   "cell_type": "code",
   "execution_count": 35,
   "metadata": {},
   "outputs": [
    {
     "data": {
      "text/plain": [
       "<Response [200]>"
      ]
     },
     "execution_count": 35,
     "metadata": {},
     "output_type": "execute_result"
    }
   ],
   "source": [
    "resp"
   ]
  },
  {
   "cell_type": "code",
   "execution_count": 36,
   "metadata": {},
   "outputs": [],
   "source": [
    "doc = resp.json()"
   ]
  },
  {
   "cell_type": "code",
   "execution_count": 37,
   "metadata": {},
   "outputs": [
    {
     "data": {
      "text/plain": [
       "dict_keys(['items'])"
      ]
     },
     "execution_count": 37,
     "metadata": {},
     "output_type": "execute_result"
    }
   ],
   "source": [
    "doc.keys()"
   ]
  },
  {
   "cell_type": "code",
   "execution_count": 38,
   "metadata": {},
   "outputs": [],
   "source": [
    "df = pd.DataFrame.from_records(doc['items'])"
   ]
  },
  {
   "cell_type": "code",
   "execution_count": 39,
   "metadata": {},
   "outputs": [
    {
     "data": {
      "text/html": [
       "<div>\n",
       "<style scoped>\n",
       "    .dataframe tbody tr th:only-of-type {\n",
       "        vertical-align: middle;\n",
       "    }\n",
       "\n",
       "    .dataframe tbody tr th {\n",
       "        vertical-align: top;\n",
       "    }\n",
       "\n",
       "    .dataframe thead th {\n",
       "        text-align: right;\n",
       "    }\n",
       "</style>\n",
       "<table border=\"1\" class=\"dataframe\">\n",
       "  <thead>\n",
       "    <tr style=\"text-align: right;\">\n",
       "      <th></th>\n",
       "      <th>access</th>\n",
       "      <th>agent</th>\n",
       "      <th>article</th>\n",
       "      <th>granularity</th>\n",
       "      <th>project</th>\n",
       "      <th>timestamp</th>\n",
       "      <th>views</th>\n",
       "    </tr>\n",
       "  </thead>\n",
       "  <tbody>\n",
       "    <tr>\n",
       "      <th>0</th>\n",
       "      <td>all-access</td>\n",
       "      <td>all-agents</td>\n",
       "      <td>Chernobyl_disaster</td>\n",
       "      <td>daily</td>\n",
       "      <td>en.wikipedia</td>\n",
       "      <td>2019010100</td>\n",
       "      <td>8204</td>\n",
       "    </tr>\n",
       "    <tr>\n",
       "      <th>1</th>\n",
       "      <td>all-access</td>\n",
       "      <td>all-agents</td>\n",
       "      <td>Chernobyl_disaster</td>\n",
       "      <td>daily</td>\n",
       "      <td>en.wikipedia</td>\n",
       "      <td>2019010200</td>\n",
       "      <td>8877</td>\n",
       "    </tr>\n",
       "    <tr>\n",
       "      <th>2</th>\n",
       "      <td>all-access</td>\n",
       "      <td>all-agents</td>\n",
       "      <td>Chernobyl_disaster</td>\n",
       "      <td>daily</td>\n",
       "      <td>en.wikipedia</td>\n",
       "      <td>2019010300</td>\n",
       "      <td>8733</td>\n",
       "    </tr>\n",
       "    <tr>\n",
       "      <th>3</th>\n",
       "      <td>all-access</td>\n",
       "      <td>all-agents</td>\n",
       "      <td>Chernobyl_disaster</td>\n",
       "      <td>daily</td>\n",
       "      <td>en.wikipedia</td>\n",
       "      <td>2019010400</td>\n",
       "      <td>10807</td>\n",
       "    </tr>\n",
       "    <tr>\n",
       "      <th>4</th>\n",
       "      <td>all-access</td>\n",
       "      <td>all-agents</td>\n",
       "      <td>Chernobyl_disaster</td>\n",
       "      <td>daily</td>\n",
       "      <td>en.wikipedia</td>\n",
       "      <td>2019010500</td>\n",
       "      <td>7453</td>\n",
       "    </tr>\n",
       "    <tr>\n",
       "      <th>5</th>\n",
       "      <td>all-access</td>\n",
       "      <td>all-agents</td>\n",
       "      <td>Chernobyl_disaster</td>\n",
       "      <td>daily</td>\n",
       "      <td>en.wikipedia</td>\n",
       "      <td>2019010600</td>\n",
       "      <td>7895</td>\n",
       "    </tr>\n",
       "    <tr>\n",
       "      <th>6</th>\n",
       "      <td>all-access</td>\n",
       "      <td>all-agents</td>\n",
       "      <td>Chernobyl_disaster</td>\n",
       "      <td>daily</td>\n",
       "      <td>en.wikipedia</td>\n",
       "      <td>2019010700</td>\n",
       "      <td>9198</td>\n",
       "    </tr>\n",
       "    <tr>\n",
       "      <th>7</th>\n",
       "      <td>all-access</td>\n",
       "      <td>all-agents</td>\n",
       "      <td>Chernobyl_disaster</td>\n",
       "      <td>daily</td>\n",
       "      <td>en.wikipedia</td>\n",
       "      <td>2019010800</td>\n",
       "      <td>8795</td>\n",
       "    </tr>\n",
       "    <tr>\n",
       "      <th>8</th>\n",
       "      <td>all-access</td>\n",
       "      <td>all-agents</td>\n",
       "      <td>Chernobyl_disaster</td>\n",
       "      <td>daily</td>\n",
       "      <td>en.wikipedia</td>\n",
       "      <td>2019010900</td>\n",
       "      <td>9176</td>\n",
       "    </tr>\n",
       "    <tr>\n",
       "      <th>9</th>\n",
       "      <td>all-access</td>\n",
       "      <td>all-agents</td>\n",
       "      <td>Chernobyl_disaster</td>\n",
       "      <td>daily</td>\n",
       "      <td>en.wikipedia</td>\n",
       "      <td>2019011000</td>\n",
       "      <td>8824</td>\n",
       "    </tr>\n",
       "  </tbody>\n",
       "</table>\n",
       "</div>"
      ],
      "text/plain": [
       "       access       agent             article granularity       project  \\\n",
       "0  all-access  all-agents  Chernobyl_disaster       daily  en.wikipedia   \n",
       "1  all-access  all-agents  Chernobyl_disaster       daily  en.wikipedia   \n",
       "2  all-access  all-agents  Chernobyl_disaster       daily  en.wikipedia   \n",
       "3  all-access  all-agents  Chernobyl_disaster       daily  en.wikipedia   \n",
       "4  all-access  all-agents  Chernobyl_disaster       daily  en.wikipedia   \n",
       "5  all-access  all-agents  Chernobyl_disaster       daily  en.wikipedia   \n",
       "6  all-access  all-agents  Chernobyl_disaster       daily  en.wikipedia   \n",
       "7  all-access  all-agents  Chernobyl_disaster       daily  en.wikipedia   \n",
       "8  all-access  all-agents  Chernobyl_disaster       daily  en.wikipedia   \n",
       "9  all-access  all-agents  Chernobyl_disaster       daily  en.wikipedia   \n",
       "\n",
       "    timestamp  views  \n",
       "0  2019010100   8204  \n",
       "1  2019010200   8877  \n",
       "2  2019010300   8733  \n",
       "3  2019010400  10807  \n",
       "4  2019010500   7453  \n",
       "5  2019010600   7895  \n",
       "6  2019010700   9198  \n",
       "7  2019010800   8795  \n",
       "8  2019010900   9176  \n",
       "9  2019011000   8824  "
      ]
     },
     "execution_count": 39,
     "metadata": {},
     "output_type": "execute_result"
    }
   ],
   "source": [
    "df.head(10)"
   ]
  },
  {
   "cell_type": "code",
   "execution_count": 40,
   "metadata": {},
   "outputs": [
    {
     "name": "stdout",
     "output_type": "stream",
     "text": [
      "<class 'pandas.core.frame.DataFrame'>\n",
      "RangeIndex: 280 entries, 0 to 279\n",
      "Data columns (total 7 columns):\n",
      "access         280 non-null object\n",
      "agent          280 non-null object\n",
      "article        280 non-null object\n",
      "granularity    280 non-null object\n",
      "project        280 non-null object\n",
      "timestamp      280 non-null object\n",
      "views          280 non-null int64\n",
      "dtypes: int64(1), object(6)\n",
      "memory usage: 15.4+ KB\n"
     ]
    }
   ],
   "source": [
    "df.info()"
   ]
  },
  {
   "cell_type": "code",
   "execution_count": 41,
   "metadata": {},
   "outputs": [],
   "source": [
    "df['timestamp'] = pd.to_datetime(df['timestamp'].str[:-2])"
   ]
  },
  {
   "cell_type": "code",
   "execution_count": 42,
   "metadata": {},
   "outputs": [],
   "source": [
    "df.sort_values(by='timestamp', ascending=True, inplace=True)"
   ]
  },
  {
   "cell_type": "code",
   "execution_count": 43,
   "metadata": {},
   "outputs": [],
   "source": [
    "df.set_index('timestamp', inplace=True)"
   ]
  },
  {
   "cell_type": "code",
   "execution_count": 44,
   "metadata": {},
   "outputs": [
    {
     "data": {
      "text/plain": [
       "True"
      ]
     },
     "execution_count": 44,
     "metadata": {},
     "output_type": "execute_result"
    }
   ],
   "source": [
    "df.index.is_monotonic_increasing"
   ]
  },
  {
   "cell_type": "code",
   "execution_count": 45,
   "metadata": {},
   "outputs": [
    {
     "data": {
      "image/png": "[encoded data removed]",
      "text/plain": [
       "<Figure size 1008x504 with 1 Axes>"
      ]
     },
     "metadata": {},
     "output_type": "display_data"
    }
   ],
   "source": [
    "fig, ax = plt.subplots(figsize=(14, 7))\n",
    "\n",
    "df['views'].plot(ax=ax, label='Pageviews per day', linewidth=2)\n",
    "\n",
    "selected_views = df.loc[MINISERIES_RELEASE_DATE - pd.Timedelta('5d'): MINISERIES_RELEASE_DATE + pd.Timedelta('5d'), 'views']\n",
    "ax.fill_between(selected_views.index, selected_views, color=flatui_palette[1], alpha=0.8)\n",
    "\n",
    "'''\n",
    "ax.bar([\n",
    "    (MINISERIES_RELEASE_DATE + pd.Timedelta('%sd' % x)).to_pydatetime()\n",
    "    for x in range(-5, 6)\n",
    "], df.loc[MINISERIES_RELEASE_DATE - pd.Timedelta('5d'): MINISERIES_RELEASE_DATE + pd.Timedelta('5d'), 'views'].values, color='#ff000080')\n",
    "'''\n",
    "\n",
    "xpos = MINISERIES_RELEASE_DATE.to_pydatetime()\n",
    "ypos = df.loc[MINISERIES_RELEASE_DATE, 'views']\n",
    "\n",
    "xpos_text = (MINISERIES_RELEASE_DATE - pd.Timedelta('30d')).to_pydatetime()\n",
    "ypos_text = df.loc[MINISERIES_RELEASE_DATE + pd.Timedelta('1d'), 'views']\n",
    "\n",
    "ax.annotate(\n",
    "    '1st Episode', xy=(xpos, ypos), xytext=(xpos_text, ypos_text),\n",
    "    arrowprops=dict(facecolor=flatui_palette[1], shrink=0.05),\n",
    ")\n",
    "\n",
    "fig.autofmt_xdate()\n",
    "ax.legend(loc='upper left');"
   ]
  }
 ],
 "metadata": {
  "kernelspec": {
   "display_name": "Python 3",
   "language": "python",
   "name": "python3"
  },
  "language_info": {
   "codemirror_mode": {
    "name": "ipython",
    "version": 3
   },
   "file_extension": ".py",
   "mimetype": "text/x-python",
   "name": "python",
   "nbconvert_exporter": "python",
   "pygments_lexer": "ipython3",
   "version": "3.8.1"
  }
 },
 "nbformat": 4,
 "nbformat_minor": 4
}
